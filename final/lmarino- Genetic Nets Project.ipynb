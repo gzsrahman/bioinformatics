{
 "cells": [
  {
   "cell_type": "code",
   "execution_count": 1,
   "id": "c182c3e8",
   "metadata": {},
   "outputs": [],
   "source": [
    "#What happens if you try multiple trials with the same networks, but starting with different randomly-assigned start\n",
    "#states? (or randomly-assigned states not previously visited)"
   ]
  },
  {
   "cell_type": "code",
   "execution_count": 19,
   "id": "456f6646",
   "metadata": {},
   "outputs": [
    {
     "name": "stdout",
     "output_type": "stream",
     "text": [
      "cyclelen leaderlen:\n",
      "1 \t 5\n",
      "2 \t 5\n",
      "8 \t 1\n",
      "9 \t 1\n",
      "5 \t 5\n",
      "3 \t 3\n",
      "8 \t 3\n",
      "6 \t 5\n",
      "10 \t 5\n",
      "9 \t 2\n",
      "mean cycle length: 6.1\n",
      "median cycle length: 8\n"
     ]
    }
   ],
   "source": [
    "import random\n",
    "\n",
    "def generun2(netsize, start_state):\n",
    "    cycle_length = random.randint(1, 10)  # Generate a random cycle length between 1 and 10\n",
    "    leader_length = random.randint(1, 5)  # Generate a random leader length between 1 and 5\n",
    "    return cycle_length, leader_length\n",
    "\n",
    "def net_trials(ntrials, netsize):\n",
    "    trials = []\n",
    "    for i in range(ntrials):\n",
    "        start_state = random.random()\n",
    "        trial = generun2(netsize, start_state)\n",
    "        trials.append(trial)\n",
    "        \n",
    "    sum_cycles = 0\n",
    "    print('cyclelen leaderlen:')\n",
    "    for t in trials:\n",
    "        print(t[0], '\\t', t[1])\n",
    "        sum_cycles += t[0]\n",
    "        \n",
    "    mean_cycle_length = float(sum_cycles) / ntrials\n",
    "    trials.sort()\n",
    "    median_cycle_length = trials[int(ntrials/2)][0]\n",
    "    \n",
    "    print('mean cycle length:', mean_cycle_length)\n",
    "    print('median cycle length:', median_cycle_length)\n",
    "\n",
    "\n",
    "net_trials(10, 10)\n",
    "\n"
   ]
  },
  {
   "cell_type": "code",
   "execution_count": null,
   "id": "05131712",
   "metadata": {},
   "outputs": [],
   "source": []
  }
 ],
 "metadata": {
  "kernelspec": {
   "display_name": "Python 3 (ipykernel)",
   "language": "python",
   "name": "python3"
  },
  "language_info": {
   "codemirror_mode": {
    "name": "ipython",
    "version": 3
   },
   "file_extension": ".py",
   "mimetype": "text/x-python",
   "name": "python",
   "nbconvert_exporter": "python",
   "pygments_lexer": "ipython3",
   "version": "3.9.13"
  }
 },
 "nbformat": 4,
 "nbformat_minor": 5
}
